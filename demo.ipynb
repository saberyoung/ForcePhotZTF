{
 "cells": [
  {
   "cell_type": "markdown",
   "metadata": {},
   "source": [
    "<a id=\"title_ID\"></a>\n",
    "# A Demo of ForcePhotZTF\n",
    "This is a demo of how to use the code to get forced photometry light curve for ZTF18abfcmjw (SN2019dge)! </br>\n",
    "\n",
    "### Table of Contents \n",
    "  [Import Statements](#imports_ID) <br> \n",
    "  [Download public alert and get a sense of the lightcurve](#marshal_ID) <br> \n",
    "  [Download images from IRSA database¶](#images_ID) <br> \n",
    "  [Get observation infomation and cutouts.](#info_ID) <br>\n",
    "  [Forced-PSF photometry using MCMC!](#mcmc_ID) <br>\n",
    "  [Get the forced photometry from IPAC service](#IPAC_ID) <br>\n",
    "  [Take a quick look at our light curve](#quicklook_ID) <br> \n",
    "  [Appendix: how about some quality cuts?](#quality_ID) "
   ]
  },
  {
   "cell_type": "markdown",
   "metadata": {},
   "source": [
    "***"
   ]
  },
  {
   "cell_type": "markdown",
   "metadata": {},
   "source": [
    "<a id=\"imports_ID\"></a>\n",
    "## Import Statements\n",
    "\n",
    "First, let's import some packages.<br> Package version should be > number listed below\n",
    "- python 3.6\n",
    "- numpy 1.16.2\n",
    "- scipy 1.2.1\n",
    "- pandas 0.24.1\n",
    "- emcee 3.0rc2 [link](https://emcee.readthedocs.io/en/latest/user/install/)\n",
    "- matplotlib 3.0.3\n",
    "- astropy 3.1.2\n",
    "- sncosmo 1.7.1\n",
    "- ztfquery 1.4.0\n",
    "- photutils 0.6\n",
    "- coner 2.0.1\n",
    "- image_registration 0.2.4\n",
    "- penquins 1.0.0 [link to Kowalski](https://github.com/dmitryduev/kowalski)\n",
    "\n",
    "Remember to add the parent path of ForcePhotZTF to your system, I use the command `sys.path.append()` for this purpose.\n",
    "This demo utilized the package `multiprocessing`. You need to specify how many cores you want to use to extract the light curve (`ncpu`). Here I use the total number of cores in my laptop. "
   ]
  },
  {
   "cell_type": "code",
   "execution_count": 21,
   "metadata": {},
   "outputs": [],
   "source": [
    "import os\n",
    "import numpy as np\n",
    "import pandas as pd\n",
    "import matplotlib.pyplot as plt\n",
    "from astropy.table import Table\n",
    "\n",
    "import sys\n",
    "sys.path.append('/Users/yuhanyao/Documents/')"
   ]
  },
  {
   "cell_type": "code",
   "execution_count": 22,
   "metadata": {},
   "outputs": [],
   "source": [
    "from ForcePhotZTF.keypairs import get_keypairs\n",
    "from ForcePhotZTF.force_lc import download_marshal_lightcurve, get_coo_ZTFtarget, astrometry_spread, \\\n",
    "                                    get_cutout_data, download_images_diffpsf_refdiff\n",
    "from ForcePhotZTF.force_mcmc import get_forced_phot_mcmc\n",
    "from ForcePhotZTF.refine_lc import get_recerence_jds, plotlcs, read_ipac_lc, read_mcmc_lc"
   ]
  },
  {
   "cell_type": "code",
   "execution_count": 23,
   "metadata": {},
   "outputs": [
    {
     "name": "stdout",
     "output_type": "stream",
     "text": [
      "12 CPUs\n"
     ]
    }
   ],
   "source": [
    "from multiprocessing import cpu_count\n",
    "ncpu = cpu_count()\n",
    "print(\"{0} CPUs\".format(ncpu))"
   ]
  },
  {
   "cell_type": "markdown",
   "metadata": {},
   "source": [
    "__Note__: make sure that your `emcee` package is up to date, otherwise the convergence check could show error(s).<br>\n",
    "I use 12 cores to run the following function, but as you can see, it still takes quite some time on my computer. <br>\n",
    "If you need to deal with ~>100 targets, it's probabaly better to set this up in a server.\n",
    "\n",
    "__ATTENTION__! You should make shure that your emcee version is [3.0rc2](https://emcee.readthedocs.io/en/latest/user/install/)! Otherwise you will run into errors.\n",
    "\n",
    "You can check this by:"
   ]
  },
  {
   "cell_type": "code",
   "execution_count": 24,
   "metadata": {},
   "outputs": [
    {
     "data": {
      "text/plain": [
       "'3.0rc2'"
      ]
     },
     "execution_count": 24,
     "metadata": {},
     "output_type": "execute_result"
    }
   ],
   "source": [
    "import emcee\n",
    "emcee.__version__"
   ]
  },
  {
   "cell_type": "code",
   "execution_count": 26,
   "metadata": {},
   "outputs": [],
   "source": [
    "# name your transient: can be a ZTFname or anything you want\n",
    "name = 'ZTF19aaciohh'\n",
    "# provide the directory under which you want to score all of your data\n",
    "targetdir = os.getcwd() + '/' + name + '/'"
   ]
  },
  {
   "cell_type": "code",
   "execution_count": 27,
   "metadata": {},
   "outputs": [
    {
     "data": {
      "text/plain": [
       "'/Users/yuhanyao/Documents/ForcePhotZTF/ZTF19aaciohh/'"
      ]
     },
     "execution_count": 27,
     "metadata": {},
     "output_type": "execute_result"
    }
   ],
   "source": [
    "targetdir"
   ]
  },
  {
   "cell_type": "markdown",
   "metadata": {},
   "source": [
    "***"
   ]
  },
  {
   "cell_type": "markdown",
   "metadata": {},
   "source": [
    "<a id=\"marshal_ID\"></a>\n",
    "## Download public alert lightcurve and get a sense of the lightcurve    \n",
    "\n",
    "This step is optional. The idea is to get the public alerts light curve of this source (Patterson et al. 2019; Masci et al. 2019)."
   ]
  },
  {
   "cell_type": "code",
   "execution_count": 29,
   "metadata": {},
   "outputs": [],
   "source": [
    "from penquins import Kowalski"
   ]
  },
  {
   "cell_type": "code",
   "execution_count": 30,
   "metadata": {},
   "outputs": [],
   "source": [
    "DEFAULT_AUTHs = get_keypairs()\n",
    "DEFAULT_AUTH_kowalski = DEFAULT_AUTHs[1] # Kowalski account username and password"
   ]
  },
  {
   "cell_type": "code",
   "execution_count": 33,
   "metadata": {},
   "outputs": [],
   "source": [
    "s = Kowalski(protocol='https', host='kowalski.caltech.edu', port=443,\n",
    "            verbose=False, username=DEFAULT_AUTH_kowalski[0], password=DEFAULT_AUTH_kowalski[1])"
   ]
  },
  {
   "cell_type": "code",
   "execution_count": 34,
   "metadata": {},
   "outputs": [],
   "source": [
    "from utils import get_dets"
   ]
  },
  {
   "cell_type": "code",
   "execution_count": 35,
   "metadata": {},
   "outputs": [],
   "source": [
    "dfs_ = get_dets(s, name)"
   ]
  },
  {
   "cell_type": "code",
   "execution_count": 36,
   "metadata": {},
   "outputs": [],
   "source": [
    "dfs = []\n",
    "for cand in dfs_:\n",
    "    df = pd.DataFrame(cand[\"candidate\"], index=[0])\n",
    "    dfs.append(df)\n",
    "\n",
    "dfs = pd.concat(dfs, ignore_index=True, sort=False).drop_duplicates(subset='jd').reset_index(drop=True)"
   ]
  },
  {
   "cell_type": "code",
   "execution_count": 38,
   "metadata": {},
   "outputs": [
    {
     "data": {
      "text/html": [
       "<div>\n",
       "<style scoped>\n",
       "    .dataframe tbody tr th:only-of-type {\n",
       "        vertical-align: middle;\n",
       "    }\n",
       "\n",
       "    .dataframe tbody tr th {\n",
       "        vertical-align: top;\n",
       "    }\n",
       "\n",
       "    .dataframe thead th {\n",
       "        text-align: right;\n",
       "    }\n",
       "</style>\n",
       "<table border=\"1\" class=\"dataframe\">\n",
       "  <thead>\n",
       "    <tr style=\"text-align: right;\">\n",
       "      <th></th>\n",
       "      <th>jd</th>\n",
       "      <th>fid</th>\n",
       "      <th>programid</th>\n",
       "      <th>ra</th>\n",
       "      <th>dec</th>\n",
       "      <th>magpsf</th>\n",
       "      <th>sigmapsf</th>\n",
       "      <th>drb</th>\n",
       "    </tr>\n",
       "  </thead>\n",
       "  <tbody>\n",
       "    <tr>\n",
       "      <th>0</th>\n",
       "      <td>2.458493e+06</td>\n",
       "      <td>1</td>\n",
       "      <td>1</td>\n",
       "      <td>268.000459</td>\n",
       "      <td>65.626681</td>\n",
       "      <td>18.441322</td>\n",
       "      <td>0.095071</td>\n",
       "      <td>NaN</td>\n",
       "    </tr>\n",
       "    <tr>\n",
       "      <th>1</th>\n",
       "      <td>2.458493e+06</td>\n",
       "      <td>1</td>\n",
       "      <td>1</td>\n",
       "      <td>268.000468</td>\n",
       "      <td>65.626674</td>\n",
       "      <td>18.425232</td>\n",
       "      <td>0.079974</td>\n",
       "      <td>NaN</td>\n",
       "    </tr>\n",
       "    <tr>\n",
       "      <th>2</th>\n",
       "      <td>2.458504e+06</td>\n",
       "      <td>1</td>\n",
       "      <td>1</td>\n",
       "      <td>268.000490</td>\n",
       "      <td>65.626632</td>\n",
       "      <td>18.468069</td>\n",
       "      <td>0.095918</td>\n",
       "      <td>NaN</td>\n",
       "    </tr>\n",
       "    <tr>\n",
       "      <th>3</th>\n",
       "      <td>2.458507e+06</td>\n",
       "      <td>1</td>\n",
       "      <td>1</td>\n",
       "      <td>268.000516</td>\n",
       "      <td>65.626683</td>\n",
       "      <td>18.365000</td>\n",
       "      <td>0.167433</td>\n",
       "      <td>NaN</td>\n",
       "    </tr>\n",
       "    <tr>\n",
       "      <th>4</th>\n",
       "      <td>2.458510e+06</td>\n",
       "      <td>2</td>\n",
       "      <td>1</td>\n",
       "      <td>268.000578</td>\n",
       "      <td>65.626618</td>\n",
       "      <td>18.261812</td>\n",
       "      <td>0.118068</td>\n",
       "      <td>NaN</td>\n",
       "    </tr>\n",
       "    <tr>\n",
       "      <th>...</th>\n",
       "      <td>...</td>\n",
       "      <td>...</td>\n",
       "      <td>...</td>\n",
       "      <td>...</td>\n",
       "      <td>...</td>\n",
       "      <td>...</td>\n",
       "      <td>...</td>\n",
       "      <td>...</td>\n",
       "    </tr>\n",
       "    <tr>\n",
       "      <th>296</th>\n",
       "      <td>2.458783e+06</td>\n",
       "      <td>1</td>\n",
       "      <td>1</td>\n",
       "      <td>268.000415</td>\n",
       "      <td>65.626690</td>\n",
       "      <td>19.817934</td>\n",
       "      <td>0.168159</td>\n",
       "      <td>0.999859</td>\n",
       "    </tr>\n",
       "    <tr>\n",
       "      <th>297</th>\n",
       "      <td>2.458783e+06</td>\n",
       "      <td>1</td>\n",
       "      <td>1</td>\n",
       "      <td>268.000612</td>\n",
       "      <td>65.626683</td>\n",
       "      <td>19.901478</td>\n",
       "      <td>0.185784</td>\n",
       "      <td>0.999998</td>\n",
       "    </tr>\n",
       "    <tr>\n",
       "      <th>298</th>\n",
       "      <td>2.458788e+06</td>\n",
       "      <td>1</td>\n",
       "      <td>1</td>\n",
       "      <td>268.001324</td>\n",
       "      <td>65.626717</td>\n",
       "      <td>19.474184</td>\n",
       "      <td>0.203716</td>\n",
       "      <td>0.978311</td>\n",
       "    </tr>\n",
       "    <tr>\n",
       "      <th>299</th>\n",
       "      <td>2.458790e+06</td>\n",
       "      <td>1</td>\n",
       "      <td>3</td>\n",
       "      <td>268.000727</td>\n",
       "      <td>65.626754</td>\n",
       "      <td>19.682205</td>\n",
       "      <td>0.185311</td>\n",
       "      <td>0.999942</td>\n",
       "    </tr>\n",
       "    <tr>\n",
       "      <th>300</th>\n",
       "      <td>2.458791e+06</td>\n",
       "      <td>1</td>\n",
       "      <td>1</td>\n",
       "      <td>268.000557</td>\n",
       "      <td>65.626637</td>\n",
       "      <td>19.890285</td>\n",
       "      <td>0.203050</td>\n",
       "      <td>0.999961</td>\n",
       "    </tr>\n",
       "  </tbody>\n",
       "</table>\n",
       "<p>301 rows × 8 columns</p>\n",
       "</div>"
      ],
      "text/plain": [
       "               jd  fid  programid          ra        dec     magpsf  sigmapsf  \\\n",
       "0    2.458493e+06    1          1  268.000459  65.626681  18.441322  0.095071   \n",
       "1    2.458493e+06    1          1  268.000468  65.626674  18.425232  0.079974   \n",
       "2    2.458504e+06    1          1  268.000490  65.626632  18.468069  0.095918   \n",
       "3    2.458507e+06    1          1  268.000516  65.626683  18.365000  0.167433   \n",
       "4    2.458510e+06    2          1  268.000578  65.626618  18.261812  0.118068   \n",
       "..            ...  ...        ...         ...        ...        ...       ...   \n",
       "296  2.458783e+06    1          1  268.000415  65.626690  19.817934  0.168159   \n",
       "297  2.458783e+06    1          1  268.000612  65.626683  19.901478  0.185784   \n",
       "298  2.458788e+06    1          1  268.001324  65.626717  19.474184  0.203716   \n",
       "299  2.458790e+06    1          3  268.000727  65.626754  19.682205  0.185311   \n",
       "300  2.458791e+06    1          1  268.000557  65.626637  19.890285  0.203050   \n",
       "\n",
       "          drb  \n",
       "0         NaN  \n",
       "1         NaN  \n",
       "2         NaN  \n",
       "3         NaN  \n",
       "4         NaN  \n",
       "..        ...  \n",
       "296  0.999859  \n",
       "297  0.999998  \n",
       "298  0.978311  \n",
       "299  0.999942  \n",
       "300  0.999961  \n",
       "\n",
       "[301 rows x 8 columns]"
      ]
     },
     "execution_count": 38,
     "metadata": {},
     "output_type": "execute_result"
    }
   ],
   "source": [
    "dfs#.head()"
   ]
  },
  {
   "cell_type": "code",
   "execution_count": 39,
   "metadata": {},
   "outputs": [],
   "source": [
    "ixg = dfs[\"fid\"]==1\n",
    "ixr = dfs[\"fid\"]==2\n",
    "ixi = dfs[\"fid\"]==3"
   ]
  },
  {
   "cell_type": "code",
   "execution_count": 40,
   "metadata": {},
   "outputs": [
    {
     "data": {
      "text/plain": [
       "4"
      ]
     },
     "execution_count": 40,
     "metadata": {},
     "output_type": "execute_result"
    }
   ],
   "source": [
    "np.sum(ixi) # no i-band public data"
   ]
  },
  {
   "cell_type": "code",
   "execution_count": 41,
   "metadata": {},
   "outputs": [
    {
     "data": {
      "text/plain": [
       "<ErrorbarContainer object of 3 artists>"
      ]
     },
     "execution_count": 41,
     "metadata": {},
     "output_type": "execute_result"
    },
    {
     "data": {
      "image/png": "[encoded data removed]",
      "text/plain": [
       "<Figure size 432x288 with 1 Axes>"
      ]
     },
     "metadata": {
      "needs_background": "light"
     },
     "output_type": "display_data"
    }
   ],
   "source": [
    "plt.figure()\n",
    "ax = plt.subplot(111)\n",
    "ax.errorbar(dfs[\"jd\"][ixg], dfs[\"magpsf\"][ixg], dfs[\"sigmapsf\"][ixg], fmt = \".\", color = \"royalblue\")\n",
    "ax.errorbar(dfs[\"jd\"][ixr], dfs[\"magpsf\"][ixr], dfs[\"sigmapsf\"][ixr], fmt = \".\", color = \"crimson\")\n",
    "ax.errorbar(dfs[\"jd\"][ixi], dfs[\"magpsf\"][ixi], dfs[\"sigmapsf\"][ixi], fmt = \".\", color = \"gold\")\n",
    "#ax.set_ylim(20.8, 18.3)"
   ]
  },
  {
   "cell_type": "markdown",
   "metadata": {},
   "source": [
    "***"
   ]
  },
  {
   "cell_type": "markdown",
   "metadata": {},
   "source": [
    "<a id=\"images_ID\"></a>\n",
    "## Download images from IRSA database\n",
    "Download images from ipac (psfmodel image and difference image, ~5GB each target) using a corss-match radius of 36 arcsecs (0.01 deg, which is very conservative). \n",
    "\n",
    "If you only want to download images between start_jd and end_jd, you can set them in the function.</br>\n",
    "Settting both parameters to None will download all of images that cover this transient, which is the default option."
   ]
  },
  {
   "cell_type": "code",
   "execution_count": 42,
   "metadata": {},
   "outputs": [],
   "source": [
    "# specify the coordinate of the source\n",
    "# I already know this, but you can get this info from the median of (ra, dec) from the public alerts dataset\n",
    "ra = 268.0005567\n",
    "dec = 65.6266366"
   ]
  },
  {
   "cell_type": "code",
   "execution_count": 48,
   "metadata": {},
   "outputs": [],
   "source": [
    "# specify the range of jd to save computation time \n",
    "# I do this since I already know that there is no detections outside of the range\n",
    "start_jd = 2458550\n",
    "end_jd = 2458560"
   ]
  },
  {
   "cell_type": "code",
   "execution_count": 49,
   "metadata": {},
   "outputs": [
    {
     "name": "stdout",
     "output_type": "stream",
     "text": [
      "\n",
      "\n",
      "Querying for metadata...\n",
      "Trying to download 30 images from irsa...\n",
      "In progress: 0 in 30\n",
      "0 images in 30 we do not have data:\n",
      "\n",
      "\n",
      "checking if all files can be opened...\n",
      "In progress: 0 in 35...\n",
      "\n",
      "\n"
     ]
    }
   ],
   "source": [
    "download_images_diffpsf_refdiff(targetdir, ra, dec, start_jd=start_jd, end_jd = end_jd)"
   ]
  },
  {
   "cell_type": "markdown",
   "metadata": {},
   "source": [
    "***"
   ]
  },
  {
   "cell_type": "markdown",
   "metadata": {},
   "source": [
    "<a id=\"info_ID\"></a>\n",
    "## Get observation infomation and cutouts.\n",
    "\n",
    "The default cutout size is a 7x7 pixel square, where 7 = 2 x r\\_psf + 1. \n",
    "Background noise is estimated by taking an annulus with inner radius = 10 pixel, and outer radius = 15 pixel. You can adjust those parameters (although I do not recommend you to do so).\n",
    "        \n",
    "Let's save the cutout data and observation information in two fits files."
   ]
  },
  {
   "cell_type": "code",
   "execution_count": 52,
   "metadata": {},
   "outputs": [
    {
     "data": {
      "text/plain": [
       "'/Users/yuhanyao/Documents/ForcePhotZTF/ZTF19aaciohh/'"
      ]
     },
     "execution_count": 52,
     "metadata": {},
     "output_type": "execute_result"
    }
   ],
   "source": [
    "targetdir"
   ]
  },
  {
   "cell_type": "code",
   "execution_count": 53,
   "metadata": {},
   "outputs": [],
   "source": [
    "os.mkdir(targetdir+\"lightcurves\")"
   ]
  },
  {
   "cell_type": "code",
   "execution_count": 54,
   "metadata": {},
   "outputs": [
    {
     "name": "stdout",
     "output_type": "stream",
     "text": [
      "Start saving cutouts and observation info for ZTF19aaciohh...\n",
      "In progress ZTF19aaciohh: 0 in 35...\n",
      "\n",
      "\n",
      "writing data to database\n"
     ]
    }
   ],
   "source": [
    "r_psf = 3\n",
    "r_bkg_in = 10\n",
    "r_bkg_out = 15\n",
    "verbose = False\n",
    "get_cutout_data(name, targetdir, ra, dec, r_psf = r_psf, \n",
    "                r_bkg_in = r_bkg_in, r_bkg_out = r_bkg_out, verbose = verbose)"
   ]
  },
  {
   "cell_type": "markdown",
   "metadata": {},
   "source": [
    "Now, get the reference epochs (start jd and end jd) for each fcqf ID"
   ]
  },
  {
   "cell_type": "code",
   "execution_count": 55,
   "metadata": {},
   "outputs": [
    {
     "name": "stdout",
     "output_type": "stream",
     "text": [
      "Start getting jd of reference exposures for ZTF19aaciohh\n",
      "fieldid: 825, ccdid: 13, qid: 1, filterid: 3 \n",
      " \t startjd: 2458249.82, endjd: 2458379.64 \n",
      "\n",
      "fieldid: 825, ccdid: 13, qid: 1, filterid: 2 \n",
      " \t startjd: 2458186.91, endjd: 2458218.92 \n",
      "\n",
      "fieldid: 826, ccdid: 16, qid: 1, filterid: 2 \n",
      " \t startjd: 2458187.02, endjd: 2458224.94 \n",
      "\n",
      "fieldid: 825, ccdid: 13, qid: 1, filterid: 1 \n",
      " \t startjd: 2458203.89, endjd: 2458232.00 \n",
      "\n",
      "fieldid: 826, ccdid: 16, qid: 1, filterid: 1 \n",
      " \t startjd: 2458203.87, endjd: 2458231.99 \n",
      "\n",
      "fieldid: 848, ccdid: 2, qid: 4, filterid: 2 \n",
      " \t startjd: 2458187.02, endjd: 2458227.01 \n",
      "\n",
      "fieldid: 848, ccdid: 2, qid: 4, filterid: 1 \n",
      " \t startjd: 2458203.90, endjd: 2458258.87 \n",
      "\n"
     ]
    }
   ],
   "source": [
    "get_recerence_jds(name, targetdir, only_partnership=False, retain_iband = True,\n",
    "                  oldsuffix = '_info.fits', newsuffix = '_info_ref.fits', verbose=True)"
   ]
  },
  {
   "cell_type": "markdown",
   "metadata": {},
   "source": [
    "***"
   ]
  },
  {
   "cell_type": "markdown",
   "metadata": {},
   "source": [
    "<a id=\"mcmc_ID\"></a>\n",
    "## Forced-PSF photometry\n",
    "- Use MCMC (the default option)\n",
    "\n",
    "The reason why you may choose to run this (instead of IPAC's defualt lightcurve pipeline) is that this code fits the PSF with MCMC (which works better -- gives you more robust estimate of uncertainties) when the transient flux is high). The pay is the long computing time: it took 6440.7724 sec to run ~ 730 observations."
   ]
  },
  {
   "cell_type": "code",
   "execution_count": 56,
   "metadata": {},
   "outputs": [
    {
     "name": "stdout",
     "output_type": "stream",
     "text": [
      "Start fitting PSF using MCMC method for ZTF19aaciohh\n",
      "index = 7, Fmcmc_med = 725.03\n",
      "index = 2, Fmcmc_med = 526.11\n",
      "index = 10, Fmcmc_med = 560.08\n",
      "index = 4, Fmcmc_med = 579.02\n",
      "index = 9, Fmcmc_med = 533.57\n",
      "index = 8, Fmcmc_med = 726.23\n",
      "index = 3, Fmcmc_med = 586.62\n",
      "index = 1, Fmcmc_med = 293.35\n",
      "index = 11, Fmcmc_med = 718.45\n",
      "index = 0, Fmcmc_med = 347.14\n",
      "index = 6, Fmcmc_med = 748.00\n",
      "index = 13, Fmcmc_med = 581.87\n",
      "index = 15, Fmcmc_med = 383.58\n",
      "index = 12, Fmcmc_med = 557.19\n",
      "index = 19, Fmcmc_med = 591.46\n",
      "index = 16, Fmcmc_med = 502.98\n",
      "index = 20, Fmcmc_med = 681.04\n",
      "index = 18, Fmcmc_med = 469.35\n",
      "index = 17, Fmcmc_med = 613.87\n",
      "index = 22, Fmcmc_med = 724.00\n",
      "index = 21, Fmcmc_med = 777.21\n",
      "index = 23, Fmcmc_med = 724.37\n",
      "index = 24, Fmcmc_med = 647.10\n",
      "index = 26, Fmcmc_med = 690.36\n",
      "index = 27, Fmcmc_med = 797.06\n",
      "index = 28, Fmcmc_med = 706.67\n",
      "index = 30, Fmcmc_med = 339.32\n",
      "index = 29, Fmcmc_med = 616.09\n",
      "index = 31, Fmcmc_med = 77.18\n",
      "index = 33, Fmcmc_med = 23.17\n",
      "index = 34, Fmcmc_med = -18.08\n",
      "index = 5, Fmcmc_med = 568.76\n",
      "index = 25, Fmcmc_med = 641.48\n",
      "index = 32, Fmcmc_med = 53.19\n",
      "index = 14, Fmcmc_med = 521.15\n",
      "Pool map took 470.3753 sec\n"
     ]
    }
   ],
   "source": [
    "get_forced_phot_mcmc(name, targetdir, ncpu)"
   ]
  },
  {
   "cell_type": "markdown",
   "metadata": {},
   "source": [
    "- Use maximum likelihood (not recommended)\n",
    "\n",
    "If you're not interested in getting the best estimate of uncertainties, but aim for the quick-and-GoodEnough light curves. Please consider look at the file `force_maxlike.py`"
   ]
  },
  {
   "cell_type": "markdown",
   "metadata": {},
   "source": [
    "***"
   ]
  },
  {
   "cell_type": "markdown",
   "metadata": {},
   "source": [
    "<a id=\"IPAC_ID\"></a>\n",
    "## Get the forced photometry from IPAC service\n",
    "This step is optional. We will need two columns (as quality check) to remove outliers."
   ]
  },
  {
   "cell_type": "code",
   "execution_count": 57,
   "metadata": {},
   "outputs": [],
   "source": [
    "DEFAULT_AUTH_fps = DEFAULT_AUTHs[3] # IPAC force photometry service username and password\n",
    "import subprocess\n",
    "info_file = targetdir+'lightcurves/force_phot_{}_info_ref.fits'.format(name)\n",
    "# xy_file = targetdir+'lightcurves/xydata_{}.fits'.format(name)\n",
    "\n",
    "info_tbl = Table.read(info_file)\n",
    "# xy_tbl = Table.read(xy_file)\n",
    "info_df = info_tbl.to_pandas()\n",
    "# xy_df = xy_tbl.to_pandas()"
   ]
  },
  {
   "cell_type": "code",
   "execution_count": 19,
   "metadata": {},
   "outputs": [],
   "source": [
    "jdstart = np.min(info_df['jdobs'])-31\n",
    "jdend = np.max(info_df['jdobs'])+31\n",
    "line = 'wget --http-user='+DEFAULT_AUTH_fps[0]+' --http-passwd=' + DEFAULT_AUTH_fps[1]+\\\n",
    "            ' -q -O log.txt '+ \\\n",
    "            '\"https://ztfweb.ipac.caltech.edu/cgi-bin/requestForcedPhotometry.cgi?'+\\\n",
    "            'ra=%.7f&dec=%.7f&jdstart=%.5f&jdend=%.5f&'%(ra, dec, jdstart, jdend)+\\\n",
    "            'email=yyao@astro.caltech.edu\"'"
   ]
  },
  {
   "cell_type": "code",
   "execution_count": 30,
   "metadata": {},
   "outputs": [
    {
     "data": {
      "text/plain": [
       "'wget --http-user=ztffps --http-passwd=dontgocrazy! -q -O log.txt \"https://ztfweb.ipac.caltech.edu/cgi-bin/requestForcedPhotometry.cgi?ra=264.1947887&dec=50.5478260&jdstart=2458191.88073&jdend=2458794.62356&email=yyao@astro.caltech.edu\"'"
      ]
     },
     "execution_count": 30,
     "metadata": {},
     "output_type": "execute_result"
    }
   ],
   "source": [
    "line"
   ]
  },
  {
   "cell_type": "code",
   "execution_count": 20,
   "metadata": {},
   "outputs": [
    {
     "data": {
      "text/plain": [
       "<subprocess.Popen at 0x1a2659db70>"
      ]
     },
     "execution_count": 20,
     "metadata": {},
     "output_type": "execute_result"
    }
   ],
   "source": [
    "subprocess.Popen(line, shell=True)"
   ]
  },
  {
   "cell_type": "markdown",
   "metadata": {},
   "source": [
    "After a few minutes you should receive an email with a link to download the lightcurve. <br>\n",
    "You need to donwload the light curve and put it under `targetdir/lightcurves/`."
   ]
  },
  {
   "cell_type": "code",
   "execution_count": 23,
   "metadata": {},
   "outputs": [],
   "source": [
    "numstr = \"552\" # this is from the email that you received"
   ]
  },
  {
   "cell_type": "code",
   "execution_count": 24,
   "metadata": {},
   "outputs": [],
   "source": [
    "line = 'wget --http-user='+DEFAULT_AUTH_fps[0]+' --http-passwd=' + DEFAULT_AUTH_fps[1]+\\\n",
    "        ' \"https://ztfweb.ipac.caltech.edu/ztf/ops/forcedphot/lc/0/0/'+\\\n",
    "        'req'+numstr+'/forcedphotometry_req00000'+numstr+'_lc.txt\"'"
   ]
  },
  {
   "cell_type": "code",
   "execution_count": 28,
   "metadata": {},
   "outputs": [],
   "source": [
    "os.chdir(targetdir + \"lightcurves/\")"
   ]
  },
  {
   "cell_type": "code",
   "execution_count": 33,
   "metadata": {},
   "outputs": [
    {
     "data": {
      "text/plain": [
       "'/Users/yuhanyao/Documents/ForcePhotZTF/ZTF19aadyppr/lightcurves'"
      ]
     },
     "execution_count": 33,
     "metadata": {},
     "output_type": "execute_result"
    }
   ],
   "source": [
    "pwd"
   ]
  },
  {
   "cell_type": "code",
   "execution_count": 30,
   "metadata": {},
   "outputs": [
    {
     "data": {
      "text/plain": [
       "<subprocess.Popen at 0x1071ea080>"
      ]
     },
     "execution_count": 30,
     "metadata": {},
     "output_type": "execute_result"
    }
   ],
   "source": [
    "subprocess.Popen(line, shell=True)"
   ]
  },
  {
   "cell_type": "markdown",
   "metadata": {},
   "source": [
    "Now, rename the IPAC lightcurve to `forcedphotometry_ipac_lc.txt`"
   ]
  },
  {
   "cell_type": "code",
   "execution_count": 34,
   "metadata": {},
   "outputs": [],
   "source": [
    "line = \"mv forcedphotometry_req00000\"+numstr+\"_lc.txt forcedphotometry_ipac_lc.txt\""
   ]
  },
  {
   "cell_type": "code",
   "execution_count": 35,
   "metadata": {},
   "outputs": [
    {
     "data": {
      "text/plain": [
       "<subprocess.Popen at 0x1a1c44b8d0>"
      ]
     },
     "execution_count": 35,
     "metadata": {},
     "output_type": "execute_result"
    }
   ],
   "source": [
    "subprocess.Popen(line, shell=True)"
   ]
  },
  {
   "cell_type": "markdown",
   "metadata": {},
   "source": [
    "***"
   ]
  },
  {
   "cell_type": "markdown",
   "metadata": {},
   "source": [
    "<a id=\"quicklook_ID\"></a>\n",
    "## Take a quick look at our light curve."
   ]
  },
  {
   "cell_type": "code",
   "execution_count": 58,
   "metadata": {},
   "outputs": [],
   "source": [
    "mylc = read_mcmc_lc(name, targetdir)"
   ]
  },
  {
   "cell_type": "code",
   "execution_count": 64,
   "metadata": {},
   "outputs": [
    {
     "data": {
      "text/plain": [
       "0     4.160\n",
       "1     3.802\n",
       "2     3.468\n",
       "3     3.364\n",
       "4     3.191\n",
       "5     3.593\n",
       "6     3.857\n",
       "7     3.526\n",
       "8     3.917\n",
       "9     3.681\n",
       "10    3.473\n",
       "11    4.251\n",
       "12    5.233\n",
       "13    3.940\n",
       "14    2.624\n",
       "15    3.067\n",
       "16    3.444\n",
       "17    2.861\n",
       "18    3.363\n",
       "19    3.246\n",
       "20    4.124\n",
       "21    2.984\n",
       "22    2.712\n",
       "23    4.633\n",
       "24    2.530\n",
       "25    5.489\n",
       "26    2.848\n",
       "27    2.408\n",
       "28    2.239\n",
       "29    2.936\n",
       "30    1.888\n",
       "31    1.426\n",
       "32    1.685\n",
       "33    1.903\n",
       "34    2.110\n",
       "Name: seeing, dtype: float64"
      ]
     },
     "execution_count": 64,
     "metadata": {},
     "output_type": "execute_result"
    }
   ],
   "source": [
    "mylc[\"seeing\"]"
   ]
  },
  {
   "cell_type": "code",
   "execution_count": 60,
   "metadata": {},
   "outputs": [
    {
     "data": {
      "text/plain": [
       "Index(['Unnamed: 0', 'jdobs', 'filter', 'seeing', 'gain', 'zp', 'ezp',\n",
       "       'programid', 'fieldid', 'ccdid', 'qid', 'filterid', 'moonra', 'moondec',\n",
       "       'moonillf', 'moonphase', 'airmass', 'nbad', 'nbadbkg', 'bkgstd',\n",
       "       'bkgmed', 'diffimgname', 'psfimgname', 'Fmcmc', 'Fmcmc_unc',\n",
       "       'Fmcmc_low_3sigma', 'Fmcmc_low_2sigma', 'Fmcmc_low_1sigma',\n",
       "       'Fmcmc_high_3sigma', 'Fmcmc_high_2sigma', 'Fmcmc_high_1sigma', 'Fratio',\n",
       "       'Fratio_unc', 'jdref_start', 'jdref_end', 'fcqfid'],\n",
       "      dtype='object')"
      ]
     },
     "execution_count": 60,
     "metadata": {},
     "output_type": "execute_result"
    }
   ],
   "source": [
    "mylc.columns"
   ]
  },
  {
   "cell_type": "code",
   "execution_count": 61,
   "metadata": {},
   "outputs": [
    {
     "name": "stderr",
     "output_type": "stream",
     "text": [
      "/anaconda3/lib/python3.6/site-packages/pandas/core/series.py:726: RuntimeWarning: invalid value encountered in log10\n",
      "  result = getattr(ufunc, method)(*inputs, **kwargs)\n"
     ]
    }
   ],
   "source": [
    "mag = -2.5 * np.log10(mylc[\"Fratio\"]) # AB magnitude"
   ]
  },
  {
   "cell_type": "code",
   "execution_count": 63,
   "metadata": {},
   "outputs": [
    {
     "data": {
      "text/plain": [
       "0     0.000098\n",
       "1     0.000044\n",
       "2     0.000079\n",
       "3     0.000088\n",
       "4     0.000080\n",
       "5     0.000084\n",
       "6     0.000102\n",
       "7     0.000097\n",
       "8     0.000099\n",
       "9     0.000085\n",
       "10    0.000100\n",
       "11    0.000096\n",
       "12    0.000077\n",
       "13    0.000094\n",
       "14    0.000094\n",
       "15    0.000073\n",
       "16    0.000067\n",
       "17    0.000081\n",
       "18    0.000066\n",
       "19    0.000088\n",
       "20    0.000082\n",
       "21    0.000101\n",
       "22    0.000094\n",
       "23    0.000086\n",
       "24    0.000088\n",
       "25    0.000074\n",
       "26    0.000094\n",
       "27    0.000100\n",
       "28    0.000094\n",
       "29    0.000084\n",
       "30    0.000050\n",
       "31    0.000013\n",
       "32    0.000008\n",
       "33    0.000003\n",
       "34   -0.000002\n",
       "Name: Fratio, dtype: float64"
      ]
     },
     "execution_count": 63,
     "metadata": {},
     "output_type": "execute_result"
    }
   ],
   "source": [
    "mylc[\"Fratio\"] * 3631 # flux in Jy"
   ]
  },
  {
   "cell_type": "code",
   "execution_count": null,
   "metadata": {},
   "outputs": [],
   "source": [
    "ipaclc = read_ipac_lc(name, targetdir)"
   ]
  },
  {
   "cell_type": "code",
   "execution_count": 27,
   "metadata": {},
   "outputs": [],
   "source": [
    "%matplotlib inline"
   ]
  },
  {
   "cell_type": "markdown",
   "metadata": {},
   "source": [
    "You're encouraged to write your own function to plot the light curve. Here is a quicklook figure:"
   ]
  },
  {
   "cell_type": "code",
   "execution_count": 65,
   "metadata": {},
   "outputs": [
    {
     "data": {
      "image/png": "[encoded data removed]",
      "text/plain": [
       "<Figure size 864x432 with 1 Axes>"
      ]
     },
     "metadata": {
      "needs_background": "light"
     },
     "output_type": "display_data"
    }
   ],
   "source": [
    "plotlcs(mylc, name, targetdir, seeing_cut = 7.)"
   ]
  },
  {
   "cell_type": "markdown",
   "metadata": {},
   "source": [
    "***"
   ]
  }
 ],
 "metadata": {
  "kernelspec": {
   "display_name": "Python 3",
   "language": "python",
   "name": "python3"
  },
  "language_info": {
   "codemirror_mode": {
    "name": "ipython",
    "version": 3
   },
   "file_extension": ".py",
   "mimetype": "text/x-python",
   "name": "python",
   "nbconvert_exporter": "python",
   "pygments_lexer": "ipython3",
   "version": "3.6.8"
  }
 },
 "nbformat": 4,
 "nbformat_minor": 2
}
